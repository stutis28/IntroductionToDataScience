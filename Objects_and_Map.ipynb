{
  "nbformat": 4,
  "nbformat_minor": 0,
  "metadata": {
    "colab": {
      "name": "Objects and Map.ipynb",
      "provenance": [],
      "authorship_tag": "ABX9TyNI8WT23s/OBesU3eWE7g8n",
      "include_colab_link": true
    },
    "kernelspec": {
      "name": "python3",
      "display_name": "Python 3"
    }
  },
  "cells": [
    {
      "cell_type": "markdown",
      "metadata": {
        "id": "view-in-github",
        "colab_type": "text"
      },
      "source": [
        "<a href=\"https://colab.research.google.com/github/stutis28/IntroductionToDataScience/blob/master/Objects_and_Map.ipynb\" target=\"_parent\"><img src=\"https://colab.research.google.com/assets/colab-badge.svg\" alt=\"Open In Colab\"/></a>"
      ]
    },
    {
      "cell_type": "code",
      "metadata": {
        "id": "wLrij0k5zUHh",
        "colab_type": "code",
        "colab": {}
      },
      "source": [
        "class Person:\n",
        "  department = 'School of Information'\n",
        "\n",
        "  def set_name(self, new_name):\n",
        "    self.name = new_name\n",
        "  def set_location(self, new_location):\n",
        "    self.location = new_location"
      ],
      "execution_count": 0,
      "outputs": []
    },
    {
      "cell_type": "code",
      "metadata": {
        "id": "T1D-7_Jt0bR4",
        "colab_type": "code",
        "outputId": "9e0bbb96-7ae7-45e8-93b3-2d52e41ba95f",
        "colab": {
          "base_uri": "https://localhost:8080/",
          "height": 34
        }
      },
      "source": [
        "person = Person()\n",
        "\n",
        "person.set_name('Tom Hillory')\n",
        "person.set_location('India')\n",
        "\n",
        "print('{} lives in {}'.format(person.name, person.location))"
      ],
      "execution_count": 0,
      "outputs": [
        {
          "output_type": "stream",
          "text": [
            "Tom Hillory lives in India\n"
          ],
          "name": "stdout"
        }
      ]
    },
    {
      "cell_type": "code",
      "metadata": {
        "id": "ky4_IOWenjNd",
        "colab_type": "code",
        "outputId": "e453b522-ba46-493c-868a-582da9a1a61e",
        "colab": {
          "base_uri": "https://localhost:8080/",
          "height": 34
        }
      },
      "source": [
        "# Map Function in Python\n",
        "# iterates over all the items of a list / tuple etc\n",
        "\n",
        "store1 = [10.00,11.00,12.34,2.34]\n",
        "store2 = [9.00, 11.10, 12.34, 2.01]\n",
        "\n",
        "cheapest = map(min, store1, store2)\n",
        "cheapest"
      ],
      "execution_count": 0,
      "outputs": [
        {
          "output_type": "execute_result",
          "data": {
            "text/plain": [
              "<map at 0x7effde544940>"
            ]
          },
          "metadata": {
            "tags": []
          },
          "execution_count": 1
        }
      ]
    },
    {
      "cell_type": "code",
      "metadata": {
        "id": "ulC5ATUin4NG",
        "colab_type": "code",
        "outputId": "422fc560-11b0-41f9-a59e-2e7d065a6c08",
        "colab": {
          "base_uri": "https://localhost:8080/",
          "height": 85
        }
      },
      "source": [
        "for item in cheapest:\n",
        "  print(item)"
      ],
      "execution_count": 0,
      "outputs": [
        {
          "output_type": "stream",
          "text": [
            "9.0\n",
            "11.0\n",
            "12.34\n",
            "2.01\n"
          ],
          "name": "stdout"
        }
      ]
    },
    {
      "cell_type": "markdown",
      "metadata": {
        "id": "J7aRgRRwnU7P",
        "colab_type": "text"
      },
      "source": [
        "Advance Python Lambda functions"
      ]
    },
    {
      "cell_type": "code",
      "metadata": {
        "id": "xl7ngTov1Gqb",
        "colab_type": "code",
        "outputId": "6c069219-b61b-4ffe-88f6-33188f1f201f",
        "colab": {
          "base_uri": "https://localhost:8080/",
          "height": 102
        }
      },
      "source": [
        "people = ['Dr. Christopher Brooks', 'Dr. Kevyn Collins-Thompson', 'Dr. VG Vinod Vydiswaran', 'Dr. Daniel Romero']\n",
        "\n",
        "def split_title_and_name(person):\n",
        "    return person.split()[0] + ' ' + person.split()[-1]\n",
        "\n",
        "#option 1\n",
        "# function = (lambda x: x.split()[0] + ' ' + x.split()[-1])\n",
        "for person in people:\n",
        "    print(split_title_and_name(person) == (lambda x: x.split()[0] + ' ' + x.split()[-1])(person))\n",
        "\n",
        "# function_name replace by activity = (lambda x: x.split()[0] + ' ' + x.split()[-1])\n",
        "\n",
        "\n",
        "#option 2\n",
        "list(map(split_title_and_name, people)) == list(map(lambda person: person.split()[0] + ' ' + person.split()[-1], people))"
      ],
      "execution_count": 0,
      "outputs": [
        {
          "output_type": "stream",
          "text": [
            "True\n",
            "True\n",
            "True\n",
            "True\n"
          ],
          "name": "stdout"
        },
        {
          "output_type": "execute_result",
          "data": {
            "text/plain": [
              "True"
            ]
          },
          "metadata": {
            "tags": []
          },
          "execution_count": 4
        }
      ]
    },
    {
      "cell_type": "markdown",
      "metadata": {
        "id": "JHM9Qfu5uKmb",
        "colab_type": "text"
      },
      "source": [
        "List Comprehensions"
      ]
    },
    {
      "cell_type": "code",
      "metadata": {
        "id": "q3spSJTkqh-b",
        "colab_type": "code",
        "colab": {
          "base_uri": "https://localhost:8080/",
          "height": 867
        },
        "outputId": "15cef81a-052b-4d33-e2f2-b84a8e2ca94a"
      },
      "source": [
        "my_list = []\n",
        "\n",
        "for number in range(0,100):\n",
        "  if number % 2 == 0:\n",
        "    my_list.append(number)\n",
        "\n",
        "my_list"
      ],
      "execution_count": 6,
      "outputs": [
        {
          "output_type": "execute_result",
          "data": {
            "text/plain": [
              "[0,\n",
              " 2,\n",
              " 4,\n",
              " 6,\n",
              " 8,\n",
              " 10,\n",
              " 12,\n",
              " 14,\n",
              " 16,\n",
              " 18,\n",
              " 20,\n",
              " 22,\n",
              " 24,\n",
              " 26,\n",
              " 28,\n",
              " 30,\n",
              " 32,\n",
              " 34,\n",
              " 36,\n",
              " 38,\n",
              " 40,\n",
              " 42,\n",
              " 44,\n",
              " 46,\n",
              " 48,\n",
              " 50,\n",
              " 52,\n",
              " 54,\n",
              " 56,\n",
              " 58,\n",
              " 60,\n",
              " 62,\n",
              " 64,\n",
              " 66,\n",
              " 68,\n",
              " 70,\n",
              " 72,\n",
              " 74,\n",
              " 76,\n",
              " 78,\n",
              " 80,\n",
              " 82,\n",
              " 84,\n",
              " 86,\n",
              " 88,\n",
              " 90,\n",
              " 92,\n",
              " 94,\n",
              " 96,\n",
              " 98]"
            ]
          },
          "metadata": {
            "tags": []
          },
          "execution_count": 6
        }
      ]
    },
    {
      "cell_type": "code",
      "metadata": {
        "id": "V0SB1XVVuXFl",
        "colab_type": "code",
        "colab": {
          "base_uri": "https://localhost:8080/",
          "height": 867
        },
        "outputId": "0c319640-d907-46e9-b249-09de5e50798b"
      },
      "source": [
        "my_list = [number for number in range(0,100) if number % 2 == 0]\n",
        "my_list"
      ],
      "execution_count": 8,
      "outputs": [
        {
          "output_type": "execute_result",
          "data": {
            "text/plain": [
              "[0,\n",
              " 2,\n",
              " 4,\n",
              " 6,\n",
              " 8,\n",
              " 10,\n",
              " 12,\n",
              " 14,\n",
              " 16,\n",
              " 18,\n",
              " 20,\n",
              " 22,\n",
              " 24,\n",
              " 26,\n",
              " 28,\n",
              " 30,\n",
              " 32,\n",
              " 34,\n",
              " 36,\n",
              " 38,\n",
              " 40,\n",
              " 42,\n",
              " 44,\n",
              " 46,\n",
              " 48,\n",
              " 50,\n",
              " 52,\n",
              " 54,\n",
              " 56,\n",
              " 58,\n",
              " 60,\n",
              " 62,\n",
              " 64,\n",
              " 66,\n",
              " 68,\n",
              " 70,\n",
              " 72,\n",
              " 74,\n",
              " 76,\n",
              " 78,\n",
              " 80,\n",
              " 82,\n",
              " 84,\n",
              " 86,\n",
              " 88,\n",
              " 90,\n",
              " 92,\n",
              " 94,\n",
              " 96,\n",
              " 98]"
            ]
          },
          "metadata": {
            "tags": []
          },
          "execution_count": 8
        }
      ]
    },
    {
      "cell_type": "code",
      "metadata": {
        "id": "v4wNsYbQug_4",
        "colab_type": "code",
        "colab": {
          "base_uri": "https://localhost:8080/",
          "height": 34
        },
        "outputId": "a4582069-6d64-48df-d53f-a985919c6fc8"
      },
      "source": [
        "def times_tables():\n",
        "    lst = []\n",
        "    for i in range(10):\n",
        "        for j in range (10):\n",
        "            lst.append(i*j)\n",
        "    return lst\n",
        "\n",
        "times_tables() == [j*i for i in range(10) for j in range(10)]\n"
      ],
      "execution_count": 9,
      "outputs": [
        {
          "output_type": "execute_result",
          "data": {
            "text/plain": [
              "True"
            ]
          },
          "metadata": {
            "tags": []
          },
          "execution_count": 9
        }
      ]
    },
    {
      "cell_type": "code",
      "metadata": {
        "id": "iXZJ2dIpvfl4",
        "colab_type": "code",
        "colab": {
          "base_uri": "https://localhost:8080/",
          "height": 867
        },
        "outputId": "20ac647b-041d-418e-f6f9-b25543f5cfe3"
      },
      "source": [
        "lowercase = 'abcdefghijklmnopqrstuvwxyz'\n",
        "digits = '0123456789'\n",
        "\n",
        "correct_answer = [a+b+c+d for a in lowercase for b in lowercase for c in digits for d in digits]\n",
        "\n",
        "correct_answer[:50] # Display first 50 ids"
      ],
      "execution_count": 10,
      "outputs": [
        {
          "output_type": "execute_result",
          "data": {
            "text/plain": [
              "['aa00',\n",
              " 'aa01',\n",
              " 'aa02',\n",
              " 'aa03',\n",
              " 'aa04',\n",
              " 'aa05',\n",
              " 'aa06',\n",
              " 'aa07',\n",
              " 'aa08',\n",
              " 'aa09',\n",
              " 'aa10',\n",
              " 'aa11',\n",
              " 'aa12',\n",
              " 'aa13',\n",
              " 'aa14',\n",
              " 'aa15',\n",
              " 'aa16',\n",
              " 'aa17',\n",
              " 'aa18',\n",
              " 'aa19',\n",
              " 'aa20',\n",
              " 'aa21',\n",
              " 'aa22',\n",
              " 'aa23',\n",
              " 'aa24',\n",
              " 'aa25',\n",
              " 'aa26',\n",
              " 'aa27',\n",
              " 'aa28',\n",
              " 'aa29',\n",
              " 'aa30',\n",
              " 'aa31',\n",
              " 'aa32',\n",
              " 'aa33',\n",
              " 'aa34',\n",
              " 'aa35',\n",
              " 'aa36',\n",
              " 'aa37',\n",
              " 'aa38',\n",
              " 'aa39',\n",
              " 'aa40',\n",
              " 'aa41',\n",
              " 'aa42',\n",
              " 'aa43',\n",
              " 'aa44',\n",
              " 'aa45',\n",
              " 'aa46',\n",
              " 'aa47',\n",
              " 'aa48',\n",
              " 'aa49']"
            ]
          },
          "metadata": {
            "tags": []
          },
          "execution_count": 10
        }
      ]
    },
    {
      "cell_type": "code",
      "metadata": {
        "id": "-quChscLwIym",
        "colab_type": "code",
        "colab": {}
      },
      "source": [
        ""
      ],
      "execution_count": 0,
      "outputs": []
    }
  ]
}