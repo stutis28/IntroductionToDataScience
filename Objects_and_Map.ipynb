{
  "nbformat": 4,
  "nbformat_minor": 0,
  "metadata": {
    "colab": {
      "name": "Objects and Map.ipynb",
      "provenance": [],
      "authorship_tag": "ABX9TyPg1dgVbwPLWEyJ5EAtGQHN"
    },
    "kernelspec": {
      "name": "python3",
      "display_name": "Python 3"
    }
  },
  "cells": [
    {
      "cell_type": "code",
      "metadata": {
        "id": "wLrij0k5zUHh",
        "colab_type": "code",
        "colab": {}
      },
      "source": [
        "class Person:\n",
        "  department = 'School of Information'\n",
        "\n",
        "  def set_name(self, new_name):\n",
        "    self.name = new_name\n",
        "  def set_location(self, new_location):\n",
        "    self.location = new_location"
      ],
      "execution_count": 0,
      "outputs": []
    },
    {
      "cell_type": "code",
      "metadata": {
        "id": "T1D-7_Jt0bR4",
        "colab_type": "code",
        "outputId": "9e0bbb96-7ae7-45e8-93b3-2d52e41ba95f",
        "colab": {
          "base_uri": "https://localhost:8080/",
          "height": 34
        }
      },
      "source": [
        "person = Person()\n",
        "\n",
        "person.set_name('Tom Hillory')\n",
        "person.set_location('India')\n",
        "\n",
        "print('{} lives in {}'.format(person.name, person.location))"
      ],
      "execution_count": 0,
      "outputs": [
        {
          "output_type": "stream",
          "text": [
            "Tom Hillory lives in India\n"
          ],
          "name": "stdout"
        }
      ]
    },
    {
      "cell_type": "code",
      "metadata": {
        "id": "ky4_IOWenjNd",
        "colab_type": "code",
        "outputId": "e453b522-ba46-493c-868a-582da9a1a61e",
        "colab": {
          "base_uri": "https://localhost:8080/",
          "height": 34
        }
      },
      "source": [
        "# Map Function in Python\n",
        "# iterates over all the items of a list / tuple etc\n",
        "\n",
        "store1 = [10.00,11.00,12.34,2.34]\n",
        "store2 = [9.00, 11.10, 12.34, 2.01]\n",
        "\n",
        "cheapest = map(min, store1, store2)\n",
        "cheapest"
      ],
      "execution_count": 0,
      "outputs": [
        {
          "output_type": "execute_result",
          "data": {
            "text/plain": [
              "<map at 0x7effde544940>"
            ]
          },
          "metadata": {
            "tags": []
          },
          "execution_count": 1
        }
      ]
    },
    {
      "cell_type": "code",
      "metadata": {
        "id": "ulC5ATUin4NG",
        "colab_type": "code",
        "outputId": "422fc560-11b0-41f9-a59e-2e7d065a6c08",
        "colab": {
          "base_uri": "https://localhost:8080/",
          "height": 85
        }
      },
      "source": [
        "for item in cheapest:\n",
        "  print(item)"
      ],
      "execution_count": 0,
      "outputs": [
        {
          "output_type": "stream",
          "text": [
            "9.0\n",
            "11.0\n",
            "12.34\n",
            "2.01\n"
          ],
          "name": "stdout"
        }
      ]
    },
    {
      "cell_type": "markdown",
      "metadata": {
        "id": "J7aRgRRwnU7P",
        "colab_type": "text"
      },
      "source": [
        "Advance Python Lambda functions"
      ]
    },
    {
      "cell_type": "code",
      "metadata": {
        "id": "xl7ngTov1Gqb",
        "colab_type": "code",
        "outputId": "6c069219-b61b-4ffe-88f6-33188f1f201f",
        "colab": {
          "base_uri": "https://localhost:8080/",
          "height": 102
        }
      },
      "source": [
        "people = ['Dr. Christopher Brooks', 'Dr. Kevyn Collins-Thompson', 'Dr. VG Vinod Vydiswaran', 'Dr. Daniel Romero']\n",
        "\n",
        "def split_title_and_name(person):\n",
        "    return person.split()[0] + ' ' + person.split()[-1]\n",
        "\n",
        "#option 1\n",
        "# function = (lambda x: x.split()[0] + ' ' + x.split()[-1])\n",
        "for person in people:\n",
        "    print(split_title_and_name(person) == (lambda x: x.split()[0] + ' ' + x.split()[-1])(person))\n",
        "\n",
        "# function_name replace by activity = (lambda x: x.split()[0] + ' ' + x.split()[-1])\n",
        "\n",
        "\n",
        "#option 2\n",
        "list(map(split_title_and_name, people)) == list(map(lambda person: person.split()[0] + ' ' + person.split()[-1], people))"
      ],
      "execution_count": 0,
      "outputs": [
        {
          "output_type": "stream",
          "text": [
            "True\n",
            "True\n",
            "True\n",
            "True\n"
          ],
          "name": "stdout"
        },
        {
          "output_type": "execute_result",
          "data": {
            "text/plain": [
              "True"
            ]
          },
          "metadata": {
            "tags": []
          },
          "execution_count": 4
        }
      ]
    },
    {
      "cell_type": "code",
      "metadata": {
        "id": "q3spSJTkqh-b",
        "colab_type": "code",
        "colab": {}
      },
      "source": [
        ""
      ],
      "execution_count": 0,
      "outputs": []
    }
  ]
}