{
  "nbformat": 4,
  "nbformat_minor": 0,
  "metadata": {
    "colab": {
      "name": "Python Functions.ipynb",
      "provenance": [],
      "mount_file_id": "1am9j8WAerzrhZ5JCIhKKKitY2OHTiyGK",
      "authorship_tag": "ABX9TyPmyg0US+1z9ijMGN91h4M8",
      "include_colab_link": true
    },
    "kernelspec": {
      "name": "python3",
      "display_name": "Python 3"
    }
  },
  "cells": [
    {
      "cell_type": "markdown",
      "metadata": {
        "id": "view-in-github",
        "colab_type": "text"
      },
      "source": [
        "<a href=\"https://colab.research.google.com/github/stutis28/IntroductionToDataScience/blob/master/Python_Functions.ipynb\" target=\"_parent\"><img src=\"https://colab.research.google.com/assets/colab-badge.svg\" alt=\"Open In Colab\"/></a>"
      ]
    },
    {
      "cell_type": "code",
      "metadata": {
        "id": "c1zareljSrYI",
        "colab_type": "code",
        "outputId": "a8490d04-79fb-450e-ac4e-0cab0af154fd",
        "colab": {
          "base_uri": "https://localhost:8080/",
          "height": 34
        }
      },
      "source": [
        "x = 1\n",
        "y = 2 \n",
        "x + y "
      ],
      "execution_count": 0,
      "outputs": [
        {
          "output_type": "execute_result",
          "data": {
            "text/plain": [
              "3"
            ]
          },
          "metadata": {
            "tags": []
          },
          "execution_count": 2
        }
      ]
    },
    {
      "cell_type": "code",
      "metadata": {
        "id": "xrkTa_F4TUTk",
        "colab_type": "code",
        "outputId": "3ef19ce6-5306-432e-89e0-c569c6e95598",
        "colab": {
          "base_uri": "https://localhost:8080/",
          "height": 34
        }
      },
      "source": [
        "def add_numbers(x,y,z):\n",
        "  return x + y + z\n",
        "\n",
        "add_numbers(1,2,3)"
      ],
      "execution_count": 0,
      "outputs": [
        {
          "output_type": "execute_result",
          "data": {
            "text/plain": [
              "6"
            ]
          },
          "metadata": {
            "tags": []
          },
          "execution_count": 4
        }
      ]
    },
    {
      "cell_type": "code",
      "metadata": {
        "id": "kFirJEpnU4xY",
        "colab_type": "code",
        "outputId": "4cd6fb46-d041-4cb9-9e5d-e17ebe6e50bf",
        "colab": {
          "base_uri": "https://localhost:8080/",
          "height": 51
        }
      },
      "source": [
        "def add_numbers(x, y, z = None):\n",
        "  if (z == None):\n",
        "    return x + y\n",
        "  else:\n",
        "    return x + y + z\n",
        "\n",
        "print(add_numbers(1,3))\n",
        "print(add_numbers(1,2,3))"
      ],
      "execution_count": 0,
      "outputs": [
        {
          "output_type": "stream",
          "text": [
            "4\n",
            "6\n"
          ],
          "name": "stdout"
        }
      ]
    },
    {
      "cell_type": "code",
      "metadata": {
        "id": "X9TC2BhtV6US",
        "colab_type": "code",
        "outputId": "af0eea02-2166-4acb-f40e-a12376233762",
        "colab": {
          "base_uri": "https://localhost:8080/",
          "height": 85
        }
      },
      "source": [
        "def add_numbers(x, y, z = None, flag = False):\n",
        "  if(flag):\n",
        "    print(\"Flag is True\")\n",
        "  if(z == None):\n",
        "    return x + y\n",
        "  else:\n",
        "    return x + y + z\n",
        "\n",
        "print(add_numbers(1, 2, flag = True))\n",
        "print(add_numbers(2, 4, 6))\n",
        "print(add_numbers(5,5))"
      ],
      "execution_count": 0,
      "outputs": [
        {
          "output_type": "stream",
          "text": [
            "Flag is True\n",
            "3\n",
            "12\n",
            "10\n"
          ],
          "name": "stdout"
        }
      ]
    },
    {
      "cell_type": "code",
      "metadata": {
        "id": "RYvPtxarXmto",
        "colab_type": "code",
        "outputId": "fbb903f6-c26d-4206-d7fc-4f37c2720818",
        "colab": {
          "base_uri": "https://localhost:8080/",
          "height": 34
        }
      },
      "source": [
        "def add_numbers(x, y):\n",
        "  return x + y\n",
        "\n",
        "a = add_numbers\n",
        "a(1, 2)"
      ],
      "execution_count": 0,
      "outputs": [
        {
          "output_type": "execute_result",
          "data": {
            "text/plain": [
              "3"
            ]
          },
          "metadata": {
            "tags": []
          },
          "execution_count": 10
        }
      ]
    },
    {
      "cell_type": "markdown",
      "metadata": {
        "id": "JCap3daBX1SH",
        "colab_type": "text"
      },
      "source": [
        "Types and Sequences"
      ]
    },
    {
      "cell_type": "code",
      "metadata": {
        "id": "qpG-i1E9W0A8",
        "colab_type": "code",
        "outputId": "3e076c6b-1975-4047-a69b-b624347015c4",
        "colab": {
          "base_uri": "https://localhost:8080/",
          "height": 34
        }
      },
      "source": [
        "type('This is a string')"
      ],
      "execution_count": 0,
      "outputs": [
        {
          "output_type": "execute_result",
          "data": {
            "text/plain": [
              "str"
            ]
          },
          "metadata": {
            "tags": []
          },
          "execution_count": 11
        }
      ]
    },
    {
      "cell_type": "code",
      "metadata": {
        "id": "if4StKnmX_3i",
        "colab_type": "code",
        "outputId": "172a71c1-2951-4109-a394-4f565e6fce4d",
        "colab": {
          "base_uri": "https://localhost:8080/",
          "height": 34
        }
      },
      "source": [
        "type(None)"
      ],
      "execution_count": 0,
      "outputs": [
        {
          "output_type": "execute_result",
          "data": {
            "text/plain": [
              "NoneType"
            ]
          },
          "metadata": {
            "tags": []
          },
          "execution_count": 12
        }
      ]
    },
    {
      "cell_type": "code",
      "metadata": {
        "id": "Z6laYtnpYBV3",
        "colab_type": "code",
        "outputId": "f15894e6-3325-4a07-f5c8-42c5572cc055",
        "colab": {
          "base_uri": "https://localhost:8080/",
          "height": 34
        }
      },
      "source": [
        "type(1.0)"
      ],
      "execution_count": 0,
      "outputs": [
        {
          "output_type": "execute_result",
          "data": {
            "text/plain": [
              "float"
            ]
          },
          "metadata": {
            "tags": []
          },
          "execution_count": 13
        }
      ]
    },
    {
      "cell_type": "code",
      "metadata": {
        "id": "hRunAhdkYDZ_",
        "colab_type": "code",
        "outputId": "127cddd8-b9a8-4bfa-9d7f-7458b53ef350",
        "colab": {
          "base_uri": "https://localhost:8080/",
          "height": 34
        }
      },
      "source": [
        "type(add_numbers)"
      ],
      "execution_count": 0,
      "outputs": [
        {
          "output_type": "execute_result",
          "data": {
            "text/plain": [
              "function"
            ]
          },
          "metadata": {
            "tags": []
          },
          "execution_count": 14
        }
      ]
    },
    {
      "cell_type": "code",
      "metadata": {
        "id": "bco32LbFYFyv",
        "colab_type": "code",
        "outputId": "f0e209c0-04f6-471a-b0e4-34f2ab6d2b35",
        "colab": {
          "base_uri": "https://localhost:8080/",
          "height": 34
        }
      },
      "source": [
        "# Tuples are immutable ordering cannot be changed \n",
        "# once created\n",
        "x = (1, 'a', 2, 'b')\n",
        "type(x)"
      ],
      "execution_count": 0,
      "outputs": [
        {
          "output_type": "execute_result",
          "data": {
            "text/plain": [
              "tuple"
            ]
          },
          "metadata": {
            "tags": []
          },
          "execution_count": 15
        }
      ]
    },
    {
      "cell_type": "code",
      "metadata": {
        "id": "HGxvlbMqYZPJ",
        "colab_type": "code",
        "outputId": "bbf17a13-29c1-4a4d-9338-f69c702efdf9",
        "colab": {
          "base_uri": "https://localhost:8080/",
          "height": 34
        }
      },
      "source": [
        "# Lists are mutable i.e. can change there length, \n",
        "# number of variables and there values\n",
        "\n",
        "x = [1, 'a', 2, 'b']\n",
        "type(x)"
      ],
      "execution_count": 0,
      "outputs": [
        {
          "output_type": "execute_result",
          "data": {
            "text/plain": [
              "list"
            ]
          },
          "metadata": {
            "tags": []
          },
          "execution_count": 17
        }
      ]
    },
    {
      "cell_type": "code",
      "metadata": {
        "id": "q7lF65LGYsAh",
        "colab_type": "code",
        "outputId": "842a9ba1-28d1-454e-d5e0-9193b65943fc",
        "colab": {
          "base_uri": "https://localhost:8080/",
          "height": 34
        }
      },
      "source": [
        "# add an item to a list \n",
        "x.append(3.3)\n",
        "print(x)"
      ],
      "execution_count": 0,
      "outputs": [
        {
          "output_type": "stream",
          "text": [
            "[1, 'a', 2, 'b', 3.3]\n"
          ],
          "name": "stdout"
        }
      ]
    },
    {
      "cell_type": "code",
      "metadata": {
        "id": "d8ZjpYW3Yx0s",
        "colab_type": "code",
        "outputId": "b6670894-cb33-4dc1-f3af-730170498352",
        "colab": {
          "base_uri": "https://localhost:8080/",
          "height": 102
        }
      },
      "source": [
        "# Iterate over every item of a list\n",
        "for item in x:\n",
        "  print(item)"
      ],
      "execution_count": 0,
      "outputs": [
        {
          "output_type": "stream",
          "text": [
            "1\n",
            "a\n",
            "2\n",
            "b\n",
            "3.3\n"
          ],
          "name": "stdout"
        }
      ]
    },
    {
      "cell_type": "code",
      "metadata": {
        "id": "RGdDiu3OYRAx",
        "colab_type": "code",
        "outputId": "7d787db4-e015-43f1-8fd6-0203dcae1a78",
        "colab": {
          "base_uri": "https://localhost:8080/",
          "height": 102
        }
      },
      "source": [
        "# perform operation by the length of a list\n",
        "i = 0\n",
        "while ( i != len(x)):\n",
        "  print(x[i])\n",
        "  i += 1\n"
      ],
      "execution_count": 0,
      "outputs": [
        {
          "output_type": "stream",
          "text": [
            "1\n",
            "a\n",
            "2\n",
            "b\n",
            "3.3\n"
          ],
          "name": "stdout"
        }
      ]
    },
    {
      "cell_type": "code",
      "metadata": {
        "id": "770G2yXvZEy4",
        "colab_type": "code",
        "outputId": "5f5257c7-da2e-460c-b659-0352e85ca847",
        "colab": {
          "base_uri": "https://localhost:8080/",
          "height": 34
        }
      },
      "source": [
        "# concatenate list\n",
        "[1, 2] + [4, 5]"
      ],
      "execution_count": 0,
      "outputs": [
        {
          "output_type": "execute_result",
          "data": {
            "text/plain": [
              "[1, 2, 4, 5]"
            ]
          },
          "metadata": {
            "tags": []
          },
          "execution_count": 22
        }
      ]
    },
    {
      "cell_type": "code",
      "metadata": {
        "id": "xVV-3z61ZbG3",
        "colab_type": "code",
        "outputId": "9e99c7e0-4c0a-45f5-a1bc-1f7eca609a02",
        "colab": {
          "base_uri": "https://localhost:8080/",
          "height": 34
        }
      },
      "source": [
        "# repeat values of a list\n",
        "1 * 3"
      ],
      "execution_count": 0,
      "outputs": [
        {
          "output_type": "execute_result",
          "data": {
            "text/plain": [
              "3"
            ]
          },
          "metadata": {
            "tags": []
          },
          "execution_count": 23
        }
      ]
    },
    {
      "cell_type": "code",
      "metadata": {
        "id": "iT3iu9UoZfP-",
        "colab_type": "code",
        "outputId": "f9e4f208-d902-4577-baa5-92486546bc1b",
        "colab": {
          "base_uri": "https://localhost:8080/",
          "height": 34
        }
      },
      "source": [
        "# Checks if an item is in the given the list and \n",
        "# returns True or False accordingly\n",
        "\n",
        "1 in [1, 2, 3]"
      ],
      "execution_count": 0,
      "outputs": [
        {
          "output_type": "execute_result",
          "data": {
            "text/plain": [
              "True"
            ]
          },
          "metadata": {
            "tags": []
          },
          "execution_count": 24
        }
      ]
    },
    {
      "cell_type": "markdown",
      "metadata": {
        "id": "QKtaqDOwbJhq",
        "colab_type": "text"
      },
      "source": [
        "Manipulation"
      ]
    },
    {
      "cell_type": "code",
      "metadata": {
        "id": "HgzoYER_Z5lr",
        "colab_type": "code",
        "outputId": "fe634b60-94c1-491e-ba51-14f6b0bfd8c3",
        "colab": {
          "base_uri": "https://localhost:8080/",
          "height": 68
        }
      },
      "source": [
        " # Slicing a list\n",
        "\n",
        " x = 'This is a string'\n",
        "\n",
        " print(x[0])\n",
        " print(x[0:1])\n",
        " print(x[0:2])\n"
      ],
      "execution_count": 0,
      "outputs": [
        {
          "output_type": "stream",
          "text": [
            "T\n",
            "T\n",
            "Th\n"
          ],
          "name": "stdout"
        }
      ]
    },
    {
      "cell_type": "code",
      "metadata": {
        "id": "Ec-N6EaIabEl",
        "colab_type": "code",
        "outputId": "62b32ce7-c585-4534-ec05-ee7968109fff",
        "colab": {
          "base_uri": "https://localhost:8080/",
          "height": 34
        }
      },
      "source": [
        "x[-1]\n"
      ],
      "execution_count": 0,
      "outputs": [
        {
          "output_type": "execute_result",
          "data": {
            "text/plain": [
              "'g'"
            ]
          },
          "metadata": {
            "tags": []
          },
          "execution_count": 26
        }
      ]
    },
    {
      "cell_type": "code",
      "metadata": {
        "id": "0k4RIn9tadt5",
        "colab_type": "code",
        "outputId": "c72d74ac-9c20-4088-8d60-81ae802537fd",
        "colab": {
          "base_uri": "https://localhost:8080/",
          "height": 34
        }
      },
      "source": [
        "x[-4:-2]"
      ],
      "execution_count": 0,
      "outputs": [
        {
          "output_type": "execute_result",
          "data": {
            "text/plain": [
              "'ri'"
            ]
          },
          "metadata": {
            "tags": []
          },
          "execution_count": 27
        }
      ]
    },
    {
      "cell_type": "code",
      "metadata": {
        "id": "biXLOKGJaixt",
        "colab_type": "code",
        "outputId": "008b3d0b-8588-4aa9-bed6-4d5595cfb36a",
        "colab": {
          "base_uri": "https://localhost:8080/",
          "height": 34
        }
      },
      "source": [
        "x[:3]"
      ],
      "execution_count": 0,
      "outputs": [
        {
          "output_type": "execute_result",
          "data": {
            "text/plain": [
              "'Thi'"
            ]
          },
          "metadata": {
            "tags": []
          },
          "execution_count": 28
        }
      ]
    },
    {
      "cell_type": "code",
      "metadata": {
        "id": "W6KwUkbLaloa",
        "colab_type": "code",
        "outputId": "be25b1be-ef6e-4fb9-bc19-e1605f345f0c",
        "colab": {
          "base_uri": "https://localhost:8080/",
          "height": 34
        }
      },
      "source": [
        "x[3:]"
      ],
      "execution_count": 0,
      "outputs": [
        {
          "output_type": "execute_result",
          "data": {
            "text/plain": [
              "'s is a string'"
            ]
          },
          "metadata": {
            "tags": []
          },
          "execution_count": 29
        }
      ]
    },
    {
      "cell_type": "markdown",
      "metadata": {
        "id": "NhIO-qsQbBUr",
        "colab_type": "text"
      },
      "source": [
        "Regular Expression  Evaluation"
      ]
    },
    {
      "cell_type": "code",
      "metadata": {
        "id": "bL1p2TQ9anzG",
        "colab_type": "code",
        "outputId": "89745379-7839-4016-8aa0-03d90db53c63",
        "colab": {
          "base_uri": "https://localhost:8080/",
          "height": 68
        }
      },
      "source": [
        "firstname = 'Christopher'\n",
        "lastname = 'Brooke'\n",
        "\n",
        "print(firstname + ' ' + lastname)\n",
        "print((firstname + ' ') * 3)\n",
        "print('Chris' in lastname)"
      ],
      "execution_count": 0,
      "outputs": [
        {
          "output_type": "stream",
          "text": [
            "Christopher Brooke\n",
            "Christopher Christopher Christopher \n",
            "False\n"
          ],
          "name": "stdout"
        }
      ]
    },
    {
      "cell_type": "code",
      "metadata": {
        "id": "KWcK_eaCbe_I",
        "colab_type": "code",
        "outputId": "6f720140-01f6-4ad7-bd51-dd3c6f482e5c",
        "colab": {
          "base_uri": "https://localhost:8080/",
          "height": 51
        }
      },
      "source": [
        "firstname = 'Christopher Arthur Hansen Brooks'.split(' ')[0]\n",
        "lastname = 'Christopher Arthur Hansen Brooks'.split(' ')[-1]\n",
        "print(firstname)\n",
        "print(lastname)"
      ],
      "execution_count": 0,
      "outputs": [
        {
          "output_type": "stream",
          "text": [
            "Christopher\n",
            "Brooks\n"
          ],
          "name": "stdout"
        }
      ]
    },
    {
      "cell_type": "markdown",
      "metadata": {
        "id": "1X_15l1TfGY8",
        "colab_type": "text"
      },
      "source": [
        "Dictionaries"
      ]
    },
    {
      "cell_type": "code",
      "metadata": {
        "id": "tW_yd2rcfGCv",
        "colab_type": "code",
        "outputId": "241aa928-0fde-4a0f-c7b3-cd691f992577",
        "colab": {
          "base_uri": "https://localhost:8080/",
          "height": 34
        }
      },
      "source": [
        "x = {'Christopher Brooks' : 'brooksch@unich.edu', 'Bill Gates' : 'billg@msc.com'}\n",
        "x['Christopher Brooks']"
      ],
      "execution_count": 0,
      "outputs": [
        {
          "output_type": "execute_result",
          "data": {
            "text/plain": [
              "'brooksch@unich.edu'"
            ]
          },
          "metadata": {
            "tags": []
          },
          "execution_count": 39
        }
      ]
    },
    {
      "cell_type": "code",
      "metadata": {
        "id": "OsfXuagVet5m",
        "colab_type": "code",
        "colab": {}
      },
      "source": [
        "x['Kevyn Collins- Thompson'] = None"
      ],
      "execution_count": 0,
      "outputs": []
    },
    {
      "cell_type": "code",
      "metadata": {
        "id": "RWTOiVDyf7qC",
        "colab_type": "code",
        "outputId": "9423fc33-4ef9-4cbd-e244-a011086373e8",
        "colab": {
          "base_uri": "https://localhost:8080/",
          "height": 54
        }
      },
      "source": [
        "print(x)"
      ],
      "execution_count": 0,
      "outputs": [
        {
          "output_type": "stream",
          "text": [
            "{'Christopher Brooks': 'brooksch@unich.edu', 'Bill Gates': 'billg@msc.com', 'Kevyn Collins- Thompson': None}\n"
          ],
          "name": "stdout"
        }
      ]
    },
    {
      "cell_type": "code",
      "metadata": {
        "id": "ldDUxM9-f9XO",
        "colab_type": "code",
        "outputId": "74f1feeb-1124-4870-97a0-d760dbebf813",
        "colab": {
          "base_uri": "https://localhost:8080/",
          "height": 68
        }
      },
      "source": [
        "for name in x:\n",
        "  print(x[name])"
      ],
      "execution_count": 0,
      "outputs": [
        {
          "output_type": "stream",
          "text": [
            "brooksch@unich.edu\n",
            "billg@msc.com\n",
            "None\n"
          ],
          "name": "stdout"
        }
      ]
    },
    {
      "cell_type": "code",
      "metadata": {
        "id": "6lTIyqKggFks",
        "colab_type": "code",
        "outputId": "09daca32-c1c5-443b-ebdd-382acffd9014",
        "colab": {
          "base_uri": "https://localhost:8080/",
          "height": 68
        }
      },
      "source": [
        "for email in x.values():\n",
        "  print(email)"
      ],
      "execution_count": 0,
      "outputs": [
        {
          "output_type": "stream",
          "text": [
            "brooksch@unich.edu\n",
            "billg@msc.com\n",
            "None\n"
          ],
          "name": "stdout"
        }
      ]
    },
    {
      "cell_type": "code",
      "metadata": {
        "id": "YVhkg4nUgQTp",
        "colab_type": "code",
        "outputId": "36446aa6-3e41-4989-f7da-d7aa3fffe0ea",
        "colab": {
          "base_uri": "https://localhost:8080/",
          "height": 119
        }
      },
      "source": [
        "for name, email in x.items():\n",
        "  print(name)\n",
        "  print(email)"
      ],
      "execution_count": 0,
      "outputs": [
        {
          "output_type": "stream",
          "text": [
            "Christopher Brooks\n",
            "brooksch@unich.edu\n",
            "Bill Gates\n",
            "billg@msc.com\n",
            "Kevyn Collins- Thompson\n",
            "None\n"
          ],
          "name": "stdout"
        }
      ]
    },
    {
      "cell_type": "code",
      "metadata": {
        "id": "pQ1JVqR0gYEQ",
        "colab_type": "code",
        "outputId": "0f371a05-59e5-4864-b123-d62a63917676",
        "colab": {
          "base_uri": "https://localhost:8080/",
          "height": 68
        }
      },
      "source": [
        "for name, email in x.items():\n",
        "  print(name)"
      ],
      "execution_count": 0,
      "outputs": [
        {
          "output_type": "stream",
          "text": [
            "Christopher Brooks\n",
            "Bill Gates\n",
            "Kevyn Collins- Thompson\n"
          ],
          "name": "stdout"
        }
      ]
    },
    {
      "cell_type": "markdown",
      "metadata": {
        "id": "73HB2RdNgoPM",
        "colab_type": "text"
      },
      "source": [
        "Unpacking contents of a tuple / list into variables"
      ]
    },
    {
      "cell_type": "code",
      "metadata": {
        "id": "qT6JlddQgdVl",
        "colab_type": "code",
        "outputId": "8730d954-c96d-4ef6-899c-edec49bceb81",
        "colab": {
          "base_uri": "https://localhost:8080/",
          "height": 68
        }
      },
      "source": [
        "x = ('Christopher', 'Brooks', 'abc@xyz.com')\n",
        "fname, lname, email = x\n",
        "print(fname)\n",
        "print(lname)\n",
        "print(email)"
      ],
      "execution_count": 0,
      "outputs": [
        {
          "output_type": "stream",
          "text": [
            "Christopher\n",
            "Brooks\n",
            "abc@xyz.com\n"
          ],
          "name": "stdout"
        }
      ]
    },
    {
      "cell_type": "code",
      "metadata": {
        "id": "r3ZU7Gj5g6HO",
        "colab_type": "code",
        "outputId": "fde8a791-1b3a-4bc3-aa91-24d608cda407",
        "colab": {
          "base_uri": "https://localhost:8080/",
          "height": 51
        }
      },
      "source": [
        "xy = [1,2]\n",
        "aa, bb = xy\n",
        "print(aa)\n",
        "print(bb)"
      ],
      "execution_count": 0,
      "outputs": [
        {
          "output_type": "stream",
          "text": [
            "1\n",
            "2\n"
          ],
          "name": "stdout"
        }
      ]
    },
    {
      "cell_type": "markdown",
      "metadata": {
        "id": "KRwipNSPiQnC",
        "colab_type": "text"
      },
      "source": [
        "More on strings"
      ]
    },
    {
      "cell_type": "code",
      "metadata": {
        "id": "8-S2Yp1RhJq9",
        "colab_type": "code",
        "outputId": "e698fa4e-641b-4e31-d116-1b42d1ac84fa",
        "colab": {
          "base_uri": "https://localhost:8080/",
          "height": 164
        }
      },
      "source": [
        "print('Chris' + 2)"
      ],
      "execution_count": 0,
      "outputs": [
        {
          "output_type": "error",
          "ename": "TypeError",
          "evalue": "ignored",
          "traceback": [
            "\u001b[0;31m---------------------------------------------------------------------------\u001b[0m",
            "\u001b[0;31mTypeError\u001b[0m                                 Traceback (most recent call last)",
            "\u001b[0;32m<ipython-input-49-928a1e955b60>\u001b[0m in \u001b[0;36m<module>\u001b[0;34m()\u001b[0m\n\u001b[0;32m----> 1\u001b[0;31m \u001b[0mprint\u001b[0m\u001b[0;34m(\u001b[0m\u001b[0;34m'Chris'\u001b[0m \u001b[0;34m+\u001b[0m \u001b[0;36m2\u001b[0m\u001b[0;34m)\u001b[0m\u001b[0;34m\u001b[0m\u001b[0;34m\u001b[0m\u001b[0m\n\u001b[0m",
            "\u001b[0;31mTypeError\u001b[0m: must be str, not int"
          ]
        }
      ]
    },
    {
      "cell_type": "code",
      "metadata": {
        "id": "qj9iPKbKiVhj",
        "colab_type": "code",
        "outputId": "18e18bdc-ee34-4cd1-8930-02cf0fc92450",
        "colab": {
          "base_uri": "https://localhost:8080/",
          "height": 34
        }
      },
      "source": [
        "print('Chris' + str(2))"
      ],
      "execution_count": 0,
      "outputs": [
        {
          "output_type": "stream",
          "text": [
            "Chris2\n"
          ],
          "name": "stdout"
        }
      ]
    },
    {
      "cell_type": "code",
      "metadata": {
        "id": "AriMVIqJiYtG",
        "colab_type": "code",
        "outputId": "95f24086-f71f-418b-ca54-2e6fb79e805d",
        "colab": {
          "base_uri": "https://localhost:8080/",
          "height": 34
        }
      },
      "source": [
        "salesRecord = {'price' : 3.24,\n",
        "               'num_items' : 4,\n",
        "               'person' : 'Chris'}\n",
        "\n",
        "sales_statement = '{} brought {} item(s) at a price of {} each for a total of {}'\n",
        "\n",
        "print(sales_statement.format(salesRecord['person'],\n",
        "                             salesRecord['num_items'],\n",
        "                             salesRecord['price'],\n",
        "                             salesRecord['price'] * salesRecord['num_items']))"
      ],
      "execution_count": 0,
      "outputs": [
        {
          "output_type": "stream",
          "text": [
            "Chris brought 4 item(s) at a price of 3.24 each for a total of 12.96\n"
          ],
          "name": "stdout"
        }
      ]
    },
    {
      "cell_type": "code",
      "metadata": {
        "id": "l6m_uVbojE_Y",
        "colab_type": "code",
        "colab": {}
      },
      "source": [
        ""
      ],
      "execution_count": 0,
      "outputs": []
    }
  ]
}